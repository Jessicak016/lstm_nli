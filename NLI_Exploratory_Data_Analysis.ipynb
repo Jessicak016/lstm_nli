{
 "cells": [
  {
   "cell_type": "markdown",
   "metadata": {},
   "source": [
    "## Natural Language Inference Task: EDA & Baseline Models"
   ]
  },
  {
   "cell_type": "code",
   "execution_count": 331,
   "metadata": {},
   "outputs": [],
   "source": [
    "import pandas as pd\n",
    "import numpy as np\n",
    "import random\n",
    "from sklearn.metrics import f1_score\n",
    "from sklearn.metrics import accuracy_score\n",
    "np.random.seed(1234)\n",
    "random.seed(1234)"
   ]
  },
  {
   "cell_type": "markdown",
   "metadata": {},
   "source": [
    "### Import training data "
   ]
  },
  {
   "cell_type": "code",
   "execution_count": 332,
   "metadata": {},
   "outputs": [
    {
     "data": {
      "text/html": [
       "<div>\n",
       "<style scoped>\n",
       "    .dataframe tbody tr th:only-of-type {\n",
       "        vertical-align: middle;\n",
       "    }\n",
       "\n",
       "    .dataframe tbody tr th {\n",
       "        vertical-align: top;\n",
       "    }\n",
       "\n",
       "    .dataframe thead th {\n",
       "        text-align: right;\n",
       "    }\n",
       "</style>\n",
       "<table border=\"1\" class=\"dataframe\">\n",
       "  <thead>\n",
       "    <tr style=\"text-align: right;\">\n",
       "      <th></th>\n",
       "      <th>gold_label</th>\n",
       "      <th>sentence1_binary_parse</th>\n",
       "      <th>sentence2_binary_parse</th>\n",
       "      <th>sentence1_parse</th>\n",
       "      <th>sentence2_parse</th>\n",
       "      <th>sentence1</th>\n",
       "      <th>sentence2</th>\n",
       "      <th>captionID</th>\n",
       "      <th>pairID</th>\n",
       "      <th>label1</th>\n",
       "      <th>label2</th>\n",
       "      <th>label3</th>\n",
       "      <th>label4</th>\n",
       "      <th>label5</th>\n",
       "    </tr>\n",
       "  </thead>\n",
       "  <tbody>\n",
       "    <tr>\n",
       "      <th>0</th>\n",
       "      <td>neutral</td>\n",
       "      <td>( ( ( A person ) ( on ( a horse ) ) ) ( ( jump...</td>\n",
       "      <td>( ( A person ) ( ( is ( ( training ( his horse...</td>\n",
       "      <td>(ROOT (S (NP (NP (DT A) (NN person)) (PP (IN o...</td>\n",
       "      <td>(ROOT (S (NP (DT A) (NN person)) (VP (VBZ is) ...</td>\n",
       "      <td>A person on a horse jumps over a broken down a...</td>\n",
       "      <td>A person is training his horse for a competition.</td>\n",
       "      <td>3416050480.jpg#4</td>\n",
       "      <td>3416050480.jpg#4r1n</td>\n",
       "      <td>neutral</td>\n",
       "      <td>NaN</td>\n",
       "      <td>NaN</td>\n",
       "      <td>NaN</td>\n",
       "      <td>NaN</td>\n",
       "    </tr>\n",
       "    <tr>\n",
       "      <th>1</th>\n",
       "      <td>contradiction</td>\n",
       "      <td>( ( ( A person ) ( on ( a horse ) ) ) ( ( jump...</td>\n",
       "      <td>( ( A person ) ( ( ( ( is ( at ( a diner ) ) )...</td>\n",
       "      <td>(ROOT (S (NP (NP (DT A) (NN person)) (PP (IN o...</td>\n",
       "      <td>(ROOT (S (NP (DT A) (NN person)) (VP (VBZ is) ...</td>\n",
       "      <td>A person on a horse jumps over a broken down a...</td>\n",
       "      <td>A person is at a diner, ordering an omelette.</td>\n",
       "      <td>3416050480.jpg#4</td>\n",
       "      <td>3416050480.jpg#4r1c</td>\n",
       "      <td>contradiction</td>\n",
       "      <td>NaN</td>\n",
       "      <td>NaN</td>\n",
       "      <td>NaN</td>\n",
       "      <td>NaN</td>\n",
       "    </tr>\n",
       "    <tr>\n",
       "      <th>2</th>\n",
       "      <td>entailment</td>\n",
       "      <td>( ( ( A person ) ( on ( a horse ) ) ) ( ( jump...</td>\n",
       "      <td>( ( A person ) ( ( ( ( is outdoors ) , ) ( on ...</td>\n",
       "      <td>(ROOT (S (NP (NP (DT A) (NN person)) (PP (IN o...</td>\n",
       "      <td>(ROOT (S (NP (DT A) (NN person)) (VP (VBZ is) ...</td>\n",
       "      <td>A person on a horse jumps over a broken down a...</td>\n",
       "      <td>A person is outdoors, on a horse.</td>\n",
       "      <td>3416050480.jpg#4</td>\n",
       "      <td>3416050480.jpg#4r1e</td>\n",
       "      <td>entailment</td>\n",
       "      <td>NaN</td>\n",
       "      <td>NaN</td>\n",
       "      <td>NaN</td>\n",
       "      <td>NaN</td>\n",
       "    </tr>\n",
       "  </tbody>\n",
       "</table>\n",
       "</div>"
      ],
      "text/plain": [
       "      gold_label                             sentence1_binary_parse  \\\n",
       "0        neutral  ( ( ( A person ) ( on ( a horse ) ) ) ( ( jump...   \n",
       "1  contradiction  ( ( ( A person ) ( on ( a horse ) ) ) ( ( jump...   \n",
       "2     entailment  ( ( ( A person ) ( on ( a horse ) ) ) ( ( jump...   \n",
       "\n",
       "                              sentence2_binary_parse  \\\n",
       "0  ( ( A person ) ( ( is ( ( training ( his horse...   \n",
       "1  ( ( A person ) ( ( ( ( is ( at ( a diner ) ) )...   \n",
       "2  ( ( A person ) ( ( ( ( is outdoors ) , ) ( on ...   \n",
       "\n",
       "                                     sentence1_parse  \\\n",
       "0  (ROOT (S (NP (NP (DT A) (NN person)) (PP (IN o...   \n",
       "1  (ROOT (S (NP (NP (DT A) (NN person)) (PP (IN o...   \n",
       "2  (ROOT (S (NP (NP (DT A) (NN person)) (PP (IN o...   \n",
       "\n",
       "                                     sentence2_parse  \\\n",
       "0  (ROOT (S (NP (DT A) (NN person)) (VP (VBZ is) ...   \n",
       "1  (ROOT (S (NP (DT A) (NN person)) (VP (VBZ is) ...   \n",
       "2  (ROOT (S (NP (DT A) (NN person)) (VP (VBZ is) ...   \n",
       "\n",
       "                                           sentence1  \\\n",
       "0  A person on a horse jumps over a broken down a...   \n",
       "1  A person on a horse jumps over a broken down a...   \n",
       "2  A person on a horse jumps over a broken down a...   \n",
       "\n",
       "                                           sentence2         captionID  \\\n",
       "0  A person is training his horse for a competition.  3416050480.jpg#4   \n",
       "1      A person is at a diner, ordering an omelette.  3416050480.jpg#4   \n",
       "2                  A person is outdoors, on a horse.  3416050480.jpg#4   \n",
       "\n",
       "                pairID         label1 label2 label3 label4 label5  \n",
       "0  3416050480.jpg#4r1n        neutral    NaN    NaN    NaN    NaN  \n",
       "1  3416050480.jpg#4r1c  contradiction    NaN    NaN    NaN    NaN  \n",
       "2  3416050480.jpg#4r1e     entailment    NaN    NaN    NaN    NaN  "
      ]
     },
     "execution_count": 332,
     "metadata": {},
     "output_type": "execute_result"
    }
   ],
   "source": [
    "df = pd.read_csv('snli/snli_1.0_train.txt', delimiter = \"\\t\")\n",
    "df.head(3)"
   ]
  },
  {
   "cell_type": "markdown",
   "metadata": {},
   "source": [
    "### Exploratory Data Analysis"
   ]
  },
  {
   "cell_type": "code",
   "execution_count": 65,
   "metadata": {},
   "outputs": [],
   "source": [
    "def sentence_length(row):\n",
    "    row = row.replace(\".\", \"\")\n",
    "    row = row.replace(\",\", \"\")\n",
    "    token_list = row.split()\n",
    "    return len(token_list)"
   ]
  },
  {
   "cell_type": "code",
   "execution_count": 66,
   "metadata": {},
   "outputs": [
    {
     "name": "stdout",
     "output_type": "stream",
     "text": [
      "12.850345181097381\n",
      "7.416145895816747\n"
     ]
    }
   ],
   "source": [
    "# Train Data\n",
    "df = pd.read_csv('snli/snli_1.0_train.txt', delimiter = \"\\t\")\n",
    "df = df[[\"sentence1\", \"sentence2\", \"gold_label\"]]\n",
    "df = df.dropna()\n",
    "df[\"sentence1 length\"] = df[\"sentence1\"].apply(sentence_length)\n",
    "df[\"sentence2 length\"] = df[\"sentence2\"].apply(sentence_length)\n",
    "sentence1_average = df[\"sentence1 length\"].mean()\n",
    "sentence2_average = df[\"sentence2 length\"].mean()\n",
    "print(sentence1_average)\n",
    "print(sentence2_average)"
   ]
  },
  {
   "cell_type": "code",
   "execution_count": 67,
   "metadata": {},
   "outputs": [
    {
     "name": "stdout",
     "output_type": "stream",
     "text": [
      "13.9605\n",
      "7.5154\n"
     ]
    }
   ],
   "source": [
    "# Dev Data\n",
    "df = pd.read_csv('snli/snli_1.0_dev.txt', delimiter = \"\\t\")\n",
    "df = df[[\"sentence1\", \"sentence2\", \"gold_label\"]]\n",
    "df = df.dropna()\n",
    "df[\"sentence1 length\"] = df[\"sentence1\"].apply(sentence_length)\n",
    "df[\"sentence2 length\"] = df[\"sentence2\"].apply(sentence_length)\n",
    "sentence1_average = df[\"sentence1 length\"].mean()\n",
    "sentence2_average = df[\"sentence2 length\"].mean()\n",
    "print(sentence1_average)\n",
    "print(sentence2_average)"
   ]
  },
  {
   "cell_type": "code",
   "execution_count": 68,
   "metadata": {},
   "outputs": [
    {
     "name": "stdout",
     "output_type": "stream",
     "text": [
      "13.9414\n",
      "7.4984\n"
     ]
    }
   ],
   "source": [
    "# Test Data\n",
    "df = pd.read_csv('snli/snli_1.0_test.txt', delimiter = \"\\t\")\n",
    "df = df[[\"sentence1\", \"sentence2\", \"gold_label\"]]\n",
    "df = df.dropna()\n",
    "df[\"sentence1 length\"] = df[\"sentence1\"].apply(sentence_length)\n",
    "df[\"sentence2 length\"] = df[\"sentence2\"].apply(sentence_length)\n",
    "sentence1_average = df[\"sentence1 length\"].mean()\n",
    "sentence2_average = df[\"sentence2 length\"].mean()\n",
    "print(sentence1_average)\n",
    "print(sentence2_average)"
   ]
  },
  {
   "cell_type": "code",
   "execution_count": 69,
   "metadata": {},
   "outputs": [
    {
     "data": {
      "text/html": [
       "<div>\n",
       "<style scoped>\n",
       "    .dataframe tbody tr th:only-of-type {\n",
       "        vertical-align: middle;\n",
       "    }\n",
       "\n",
       "    .dataframe tbody tr th {\n",
       "        vertical-align: top;\n",
       "    }\n",
       "\n",
       "    .dataframe thead th {\n",
       "        text-align: right;\n",
       "    }\n",
       "</style>\n",
       "<table border=\"1\" class=\"dataframe\">\n",
       "  <thead>\n",
       "    <tr style=\"text-align: right;\">\n",
       "      <th></th>\n",
       "      <th>sentence length</th>\n",
       "      <th>frequency</th>\n",
       "    </tr>\n",
       "  </thead>\n",
       "  <tbody>\n",
       "    <tr>\n",
       "      <th>36</th>\n",
       "      <td>2</td>\n",
       "      <td>6</td>\n",
       "    </tr>\n",
       "    <tr>\n",
       "      <th>35</th>\n",
       "      <td>3</td>\n",
       "      <td>12</td>\n",
       "    </tr>\n",
       "    <tr>\n",
       "      <th>23</th>\n",
       "      <td>4</td>\n",
       "      <td>66</td>\n",
       "    </tr>\n",
       "    <tr>\n",
       "      <th>17</th>\n",
       "      <td>5</td>\n",
       "      <td>180</td>\n",
       "    </tr>\n",
       "    <tr>\n",
       "      <th>13</th>\n",
       "      <td>6</td>\n",
       "      <td>360</td>\n",
       "    </tr>\n",
       "  </tbody>\n",
       "</table>\n",
       "</div>"
      ],
      "text/plain": [
       "    sentence length  frequency\n",
       "36                2          6\n",
       "35                3         12\n",
       "23                4         66\n",
       "17                5        180\n",
       "13                6        360"
      ]
     },
     "execution_count": 69,
     "metadata": {},
     "output_type": "execute_result"
    }
   ],
   "source": [
    "sentence1_distribution = pd.DataFrame(data={\"sentence length\": df[\"sentence1 length\"].value_counts().index, \n",
    "                                            \"frequency\": list(df[\"sentence1 length\"].value_counts())})\n",
    "sentence1_distribution = sentence1_distribution.sort_values(by=\"sentence length\")\n",
    "sentence1_distribution.head()"
   ]
  },
  {
   "cell_type": "code",
   "execution_count": 70,
   "metadata": {},
   "outputs": [
    {
     "data": {
      "text/html": [
       "<div>\n",
       "<style scoped>\n",
       "    .dataframe tbody tr th:only-of-type {\n",
       "        vertical-align: middle;\n",
       "    }\n",
       "\n",
       "    .dataframe tbody tr th {\n",
       "        vertical-align: top;\n",
       "    }\n",
       "\n",
       "    .dataframe thead th {\n",
       "        text-align: right;\n",
       "    }\n",
       "</style>\n",
       "<table border=\"1\" class=\"dataframe\">\n",
       "  <thead>\n",
       "    <tr style=\"text-align: right;\">\n",
       "      <th></th>\n",
       "      <th>sentence length</th>\n",
       "      <th>frequency</th>\n",
       "    </tr>\n",
       "  </thead>\n",
       "  <tbody>\n",
       "    <tr>\n",
       "      <th>28</th>\n",
       "      <td>1</td>\n",
       "      <td>1</td>\n",
       "    </tr>\n",
       "    <tr>\n",
       "      <th>18</th>\n",
       "      <td>2</td>\n",
       "      <td>17</td>\n",
       "    </tr>\n",
       "    <tr>\n",
       "      <th>9</th>\n",
       "      <td>3</td>\n",
       "      <td>275</td>\n",
       "    </tr>\n",
       "    <tr>\n",
       "      <th>4</th>\n",
       "      <td>4</td>\n",
       "      <td>1063</td>\n",
       "    </tr>\n",
       "    <tr>\n",
       "      <th>2</th>\n",
       "      <td>5</td>\n",
       "      <td>1260</td>\n",
       "    </tr>\n",
       "  </tbody>\n",
       "</table>\n",
       "</div>"
      ],
      "text/plain": [
       "    sentence length  frequency\n",
       "28                1          1\n",
       "18                2         17\n",
       "9                 3        275\n",
       "4                 4       1063\n",
       "2                 5       1260"
      ]
     },
     "execution_count": 70,
     "metadata": {},
     "output_type": "execute_result"
    }
   ],
   "source": [
    "sentence2_distribution = pd.DataFrame(data={\"sentence length\": df[\"sentence2 length\"].value_counts().index, \n",
    "                                            \"frequency\": list(df[\"sentence2 length\"].value_counts())})\n",
    "sentence2_distribution = sentence2_distribution.sort_values(by=\"sentence length\")\n",
    "sentence2_distribution.head()"
   ]
  },
  {
   "cell_type": "code",
   "execution_count": 71,
   "metadata": {},
   "outputs": [],
   "source": [
    "import matplotlib.pyplot as plt\n",
    "import numpy as np\n",
    "from matplotlib import colors\n"
   ]
  },
  {
   "cell_type": "code",
   "execution_count": 72,
   "metadata": {},
   "outputs": [
    {
     "data": {
      "text/plain": [
       "<matplotlib.legend.Legend at 0x7fba5788ec10>"
      ]
     },
     "execution_count": 72,
     "metadata": {},
     "output_type": "execute_result"
    },
    {
     "data": {
      "image/png": "[encoded data removed]",
      "text/plain": [
       "<Figure size 432x288 with 1 Axes>"
      ]
     },
     "metadata": {
      "needs_background": "light"
     },
     "output_type": "display_data"
    }
   ],
   "source": [
    "plt.plot(\"sentence length\", \"frequency\", \"bo-\", data=sentence1_distribution, label=\"Premise\")\n",
    "plt.plot(\"sentence length\", \"frequency\", \"go-\", data=sentence2_distribution, label=\"Hypothesis\")\n",
    "plt.xlabel('Sentence Length')\n",
    "plt.ylabel('Frequency')\n",
    "plt.title(\"Distribution of sentence length from the training data\")\n",
    "plt.legend()"
   ]
  },
  {
   "cell_type": "code",
   "execution_count": 73,
   "metadata": {},
   "outputs": [],
   "source": [
    "df_train = pd.read_csv('snli/snli_1.0_train.txt', delimiter = \"\\t\")\n",
    "df_dev = pd.read_csv('snli/snli_1.0_dev.txt', delimiter = \"\\t\")\n",
    "df_test = pd.read_csv('snli/snli_1.0_test.txt', delimiter = \"\\t\")\n",
    "\n",
    "dfs = [df_train, df_dev, df_test]\n",
    "df_final = pd.concat(dfs)\n",
    "\n",
    "df_final = df_final[[\"gold_label\", \"sentence1\", \"sentence2\"]]"
   ]
  },
  {
   "cell_type": "code",
   "execution_count": 74,
   "metadata": {},
   "outputs": [],
   "source": [
    "def sentence_length(row):\n",
    "    row = row.replace(\".\", \"\")\n",
    "    row = row.replace(\",\", \"\")\n",
    "    token_list = row.split()\n",
    "    return len(token_list)\n",
    "\n",
    "df_final = df_final.dropna()\n",
    "df_final[\"sentence1 length\"] = df_final[\"sentence1\"].apply(sentence_length)\n",
    "df_final[\"sentence2 length\"] = df_final[\"sentence2\"].apply(sentence_length)\n",
    "\n",
    "sentence1_distribution = pd.DataFrame(data={\"sentence length\": df_final[\"sentence1 length\"].value_counts().index, \n",
    "                                            \"frequency\": list(df_final[\"sentence1 length\"].value_counts())})\n",
    "sentence1_distribution = sentence1_distribution.sort_values(by=\"sentence length\")\n",
    "\n",
    "sentence2_distribution = pd.DataFrame(data={\"sentence length\": df_final[\"sentence2 length\"].value_counts().index, \n",
    "                                            \"frequency\": list(df_final[\"sentence2 length\"].value_counts())})\n",
    "sentence2_distribution = sentence2_distribution.sort_values(by=\"sentence length\")"
   ]
  },
  {
   "cell_type": "code",
   "execution_count": 75,
   "metadata": {},
   "outputs": [
    {
     "data": {
      "image/png": "[encoded data removed]",
      "text/plain": [
       "<Figure size 648x720 with 1 Axes>"
      ]
     },
     "metadata": {
      "needs_background": "light"
     },
     "output_type": "display_data"
    }
   ],
   "source": [
    "#fig = plt.figure()\n",
    "plt.figure(figsize=(9, 10))\n",
    "plt.plot(\"sentence length\", \"frequency\", \"bo-\", data=sentence1_distribution, label=\"Premise\")\n",
    "plt.plot(\"sentence length\", \"frequency\", \"go-\", data=sentence2_distribution, label=\"Hypothesis\")\n",
    "plt.xlabel('Sentence Length', fontsize=15)\n",
    "plt.ylabel('Frequency', fontsize=15)\n",
    "plt.title(\"Distribution of Sentence Length\", fontsize=20)\n",
    "plt.legend(fontsize=\"xx-large\")\n",
    "plt.xticks(fontsize= 13)\n",
    "plt.yticks(fontsize= 13)\n",
    "plt.savefig(\"distribution_sentence.png\")\n",
    "#fig.save(\"distribution_sentence.png\")"
   ]
  },
  {
   "cell_type": "code",
   "execution_count": 78,
   "metadata": {},
   "outputs": [
    {
     "data": {
      "text/html": [
       "<div>\n",
       "<style scoped>\n",
       "    .dataframe tbody tr th:only-of-type {\n",
       "        vertical-align: middle;\n",
       "    }\n",
       "\n",
       "    .dataframe tbody tr th {\n",
       "        vertical-align: top;\n",
       "    }\n",
       "\n",
       "    .dataframe thead th {\n",
       "        text-align: right;\n",
       "    }\n",
       "</style>\n",
       "<table border=\"1\" class=\"dataframe\">\n",
       "  <thead>\n",
       "    <tr style=\"text-align: right;\">\n",
       "      <th></th>\n",
       "      <th>gold_label</th>\n",
       "      <th>sentence1</th>\n",
       "      <th>sentence2</th>\n",
       "      <th>sentence1 length</th>\n",
       "      <th>sentence2 length</th>\n",
       "    </tr>\n",
       "  </thead>\n",
       "  <tbody>\n",
       "    <tr>\n",
       "      <th>0</th>\n",
       "      <td>neutral</td>\n",
       "      <td>A person on a horse jumps over a broken down a...</td>\n",
       "      <td>A person is training his horse for a competition.</td>\n",
       "      <td>11</td>\n",
       "      <td>9</td>\n",
       "    </tr>\n",
       "    <tr>\n",
       "      <th>1</th>\n",
       "      <td>contradiction</td>\n",
       "      <td>A person on a horse jumps over a broken down a...</td>\n",
       "      <td>A person is at a diner, ordering an omelette.</td>\n",
       "      <td>11</td>\n",
       "      <td>9</td>\n",
       "    </tr>\n",
       "    <tr>\n",
       "      <th>2</th>\n",
       "      <td>entailment</td>\n",
       "      <td>A person on a horse jumps over a broken down a...</td>\n",
       "      <td>A person is outdoors, on a horse.</td>\n",
       "      <td>11</td>\n",
       "      <td>7</td>\n",
       "    </tr>\n",
       "    <tr>\n",
       "      <th>3</th>\n",
       "      <td>neutral</td>\n",
       "      <td>Children smiling and waving at camera</td>\n",
       "      <td>They are smiling at their parents</td>\n",
       "      <td>6</td>\n",
       "      <td>6</td>\n",
       "    </tr>\n",
       "    <tr>\n",
       "      <th>4</th>\n",
       "      <td>entailment</td>\n",
       "      <td>Children smiling and waving at camera</td>\n",
       "      <td>There are children present</td>\n",
       "      <td>6</td>\n",
       "      <td>4</td>\n",
       "    </tr>\n",
       "  </tbody>\n",
       "</table>\n",
       "</div>"
      ],
      "text/plain": [
       "      gold_label                                          sentence1  \\\n",
       "0        neutral  A person on a horse jumps over a broken down a...   \n",
       "1  contradiction  A person on a horse jumps over a broken down a...   \n",
       "2     entailment  A person on a horse jumps over a broken down a...   \n",
       "3        neutral              Children smiling and waving at camera   \n",
       "4     entailment              Children smiling and waving at camera   \n",
       "\n",
       "                                           sentence2  sentence1 length  \\\n",
       "0  A person is training his horse for a competition.                11   \n",
       "1      A person is at a diner, ordering an omelette.                11   \n",
       "2                  A person is outdoors, on a horse.                11   \n",
       "3                  They are smiling at their parents                 6   \n",
       "4                         There are children present                 6   \n",
       "\n",
       "   sentence2 length  \n",
       "0                 9  \n",
       "1                 9  \n",
       "2                 7  \n",
       "3                 6  \n",
       "4                 4  "
      ]
     },
     "execution_count": 78,
     "metadata": {},
     "output_type": "execute_result"
    }
   ],
   "source": [
    "df_final.head()"
   ]
  },
  {
   "cell_type": "code",
   "execution_count": null,
   "metadata": {},
   "outputs": [],
   "source": [
    "from collections import Counter\n",
    "d = Counter()\n",
    "\n",
    "s = \"A person on a horse jumps over a broken down airplane.\"\n",
    "s = s.replace(\".\", \"\")\n",
    "t = s.split()\n",
    "d.update(t)\n",
    "d"
   ]
  },
  {
   "cell_type": "code",
   "execution_count": null,
   "metadata": {},
   "outputs": [],
   "source": [
    "from collections import Counter\n",
    "def tokenize(arrays): \n",
    "    word_count_dict = Counter()\n",
    "    for array in arrays:\n",
    "        array = array.lower()\n",
    "        array = array.replace(\".\", \"\")\n",
    "        token_list = array.split()\n",
    "        word_count_dict.update(token_list)\n",
    "    return word_count_dict"
   ]
  },
  {
   "cell_type": "code",
   "execution_count": null,
   "metadata": {},
   "outputs": [],
   "source": [
    "df[\"gold_label\"].value_counts()"
   ]
  },
  {
   "cell_type": "markdown",
   "metadata": {},
   "source": [
    "### Data Cleaning for Baseline Models"
   ]
  },
  {
   "cell_type": "code",
   "execution_count": 333,
   "metadata": {},
   "outputs": [],
   "source": [
    "df_train = pd.read_csv('snli/snli_1.0_train.txt', delimiter = \"\\t\")\n",
    "df_dev = pd.read_csv('snli/snli_1.0_dev.txt', delimiter = \"\\t\")\n",
    "df_test = pd.read_csv('snli/snli_1.0_test.txt', delimiter = \"\\t\")"
   ]
  },
  {
   "cell_type": "code",
   "execution_count": 334,
   "metadata": {},
   "outputs": [],
   "source": [
    "# delete any rows that have no definite gold_label\n",
    "train_data = df_train.copy()[[\"gold_label\", \"sentence1\", \"sentence2\"]]\n",
    "train_data = train_data[train_data[\"gold_label\"] != \"-\"]\n",
    "train_data = train_data.dropna()\n",
    "\n",
    "dev_data = df_dev.copy()[[\"gold_label\", \"sentence1\", \"sentence2\"]]\n",
    "dev_data = dev_data[dev_data[\"gold_label\"] != \"-\"]\n",
    "dev_data = dev_data.dropna()\n",
    "\n",
    "test_data = df_test.copy()[[\"gold_label\", \"sentence1\", \"sentence2\"]]\n",
    "test_data = test_data[test_data[\"gold_label\"] != \"-\"]\n",
    "test_data = test_data.dropna()"
   ]
  },
  {
   "cell_type": "code",
   "execution_count": 335,
   "metadata": {},
   "outputs": [
    {
     "data": {
      "text/html": [
       "<div>\n",
       "<style scoped>\n",
       "    .dataframe tbody tr th:only-of-type {\n",
       "        vertical-align: middle;\n",
       "    }\n",
       "\n",
       "    .dataframe tbody tr th {\n",
       "        vertical-align: top;\n",
       "    }\n",
       "\n",
       "    .dataframe thead th {\n",
       "        text-align: right;\n",
       "    }\n",
       "</style>\n",
       "<table border=\"1\" class=\"dataframe\">\n",
       "  <thead>\n",
       "    <tr style=\"text-align: right;\">\n",
       "      <th></th>\n",
       "      <th>gold_label</th>\n",
       "      <th>sentence1</th>\n",
       "      <th>sentence2</th>\n",
       "    </tr>\n",
       "  </thead>\n",
       "  <tbody>\n",
       "    <tr>\n",
       "      <th>0</th>\n",
       "      <td>neutral</td>\n",
       "      <td>A person on a horse jumps over a broken down a...</td>\n",
       "      <td>A person is training his horse for a competition.</td>\n",
       "    </tr>\n",
       "    <tr>\n",
       "      <th>1</th>\n",
       "      <td>contradiction</td>\n",
       "      <td>A person on a horse jumps over a broken down a...</td>\n",
       "      <td>A person is at a diner, ordering an omelette.</td>\n",
       "    </tr>\n",
       "  </tbody>\n",
       "</table>\n",
       "</div>"
      ],
      "text/plain": [
       "      gold_label                                          sentence1  \\\n",
       "0        neutral  A person on a horse jumps over a broken down a...   \n",
       "1  contradiction  A person on a horse jumps over a broken down a...   \n",
       "\n",
       "                                           sentence2  \n",
       "0  A person is training his horse for a competition.  \n",
       "1      A person is at a diner, ordering an omelette.  "
      ]
     },
     "execution_count": 335,
     "metadata": {},
     "output_type": "execute_result"
    }
   ],
   "source": [
    "train_data.head(2)"
   ]
  },
  {
   "cell_type": "code",
   "execution_count": 336,
   "metadata": {},
   "outputs": [
    {
     "data": {
      "text/html": [
       "<div>\n",
       "<style scoped>\n",
       "    .dataframe tbody tr th:only-of-type {\n",
       "        vertical-align: middle;\n",
       "    }\n",
       "\n",
       "    .dataframe tbody tr th {\n",
       "        vertical-align: top;\n",
       "    }\n",
       "\n",
       "    .dataframe thead th {\n",
       "        text-align: right;\n",
       "    }\n",
       "</style>\n",
       "<table border=\"1\" class=\"dataframe\">\n",
       "  <thead>\n",
       "    <tr style=\"text-align: right;\">\n",
       "      <th></th>\n",
       "      <th>gold_label</th>\n",
       "      <th>sentence1</th>\n",
       "      <th>sentence2</th>\n",
       "    </tr>\n",
       "  </thead>\n",
       "  <tbody>\n",
       "    <tr>\n",
       "      <th>0</th>\n",
       "      <td>neutral</td>\n",
       "      <td>Two women are embracing while holding to go pa...</td>\n",
       "      <td>The sisters are hugging goodbye while holding ...</td>\n",
       "    </tr>\n",
       "    <tr>\n",
       "      <th>1</th>\n",
       "      <td>entailment</td>\n",
       "      <td>Two women are embracing while holding to go pa...</td>\n",
       "      <td>Two woman are holding packages.</td>\n",
       "    </tr>\n",
       "  </tbody>\n",
       "</table>\n",
       "</div>"
      ],
      "text/plain": [
       "   gold_label                                          sentence1  \\\n",
       "0     neutral  Two women are embracing while holding to go pa...   \n",
       "1  entailment  Two women are embracing while holding to go pa...   \n",
       "\n",
       "                                           sentence2  \n",
       "0  The sisters are hugging goodbye while holding ...  \n",
       "1                    Two woman are holding packages.  "
      ]
     },
     "execution_count": 336,
     "metadata": {},
     "output_type": "execute_result"
    }
   ],
   "source": [
    "dev_data.head(2)"
   ]
  },
  {
   "cell_type": "code",
   "execution_count": 337,
   "metadata": {},
   "outputs": [
    {
     "data": {
      "text/html": [
       "<div>\n",
       "<style scoped>\n",
       "    .dataframe tbody tr th:only-of-type {\n",
       "        vertical-align: middle;\n",
       "    }\n",
       "\n",
       "    .dataframe tbody tr th {\n",
       "        vertical-align: top;\n",
       "    }\n",
       "\n",
       "    .dataframe thead th {\n",
       "        text-align: right;\n",
       "    }\n",
       "</style>\n",
       "<table border=\"1\" class=\"dataframe\">\n",
       "  <thead>\n",
       "    <tr style=\"text-align: right;\">\n",
       "      <th></th>\n",
       "      <th>gold_label</th>\n",
       "      <th>sentence1</th>\n",
       "      <th>sentence2</th>\n",
       "    </tr>\n",
       "  </thead>\n",
       "  <tbody>\n",
       "    <tr>\n",
       "      <th>0</th>\n",
       "      <td>neutral</td>\n",
       "      <td>This church choir sings to the masses as they ...</td>\n",
       "      <td>The church has cracks in the ceiling.</td>\n",
       "    </tr>\n",
       "    <tr>\n",
       "      <th>1</th>\n",
       "      <td>entailment</td>\n",
       "      <td>This church choir sings to the masses as they ...</td>\n",
       "      <td>The church is filled with song.</td>\n",
       "    </tr>\n",
       "  </tbody>\n",
       "</table>\n",
       "</div>"
      ],
      "text/plain": [
       "   gold_label                                          sentence1  \\\n",
       "0     neutral  This church choir sings to the masses as they ...   \n",
       "1  entailment  This church choir sings to the masses as they ...   \n",
       "\n",
       "                               sentence2  \n",
       "0  The church has cracks in the ceiling.  \n",
       "1        The church is filled with song.  "
      ]
     },
     "execution_count": 337,
     "metadata": {},
     "output_type": "execute_result"
    }
   ],
   "source": [
    "test_data.head(2)"
   ]
  },
  {
   "cell_type": "code",
   "execution_count": 339,
   "metadata": {},
   "outputs": [],
   "source": [
    "# reduce the training size\n",
    "training_data_length = 45948\n",
    "train_data = train_data.iloc[:training_data_length]"
   ]
  },
  {
   "cell_type": "code",
   "execution_count": 340,
   "metadata": {},
   "outputs": [
    {
     "data": {
      "text/html": [
       "<div>\n",
       "<style scoped>\n",
       "    .dataframe tbody tr th:only-of-type {\n",
       "        vertical-align: middle;\n",
       "    }\n",
       "\n",
       "    .dataframe tbody tr th {\n",
       "        vertical-align: top;\n",
       "    }\n",
       "\n",
       "    .dataframe thead th {\n",
       "        text-align: right;\n",
       "    }\n",
       "</style>\n",
       "<table border=\"1\" class=\"dataframe\">\n",
       "  <thead>\n",
       "    <tr style=\"text-align: right;\">\n",
       "      <th></th>\n",
       "      <th>sentence1</th>\n",
       "      <th>sentence2</th>\n",
       "      <th>encoded_label</th>\n",
       "    </tr>\n",
       "  </thead>\n",
       "  <tbody>\n",
       "    <tr>\n",
       "      <th>0</th>\n",
       "      <td>A person on a horse jumps over a broken down a...</td>\n",
       "      <td>A person is training his horse for a competition.</td>\n",
       "      <td>2</td>\n",
       "    </tr>\n",
       "    <tr>\n",
       "      <th>1</th>\n",
       "      <td>A person on a horse jumps over a broken down a...</td>\n",
       "      <td>A person is at a diner, ordering an omelette.</td>\n",
       "      <td>0</td>\n",
       "    </tr>\n",
       "    <tr>\n",
       "      <th>2</th>\n",
       "      <td>A person on a horse jumps over a broken down a...</td>\n",
       "      <td>A person is outdoors, on a horse.</td>\n",
       "      <td>1</td>\n",
       "    </tr>\n",
       "  </tbody>\n",
       "</table>\n",
       "</div>"
      ],
      "text/plain": [
       "                                           sentence1  \\\n",
       "0  A person on a horse jumps over a broken down a...   \n",
       "1  A person on a horse jumps over a broken down a...   \n",
       "2  A person on a horse jumps over a broken down a...   \n",
       "\n",
       "                                           sentence2  encoded_label  \n",
       "0  A person is training his horse for a competition.              2  \n",
       "1      A person is at a diner, ordering an omelette.              0  \n",
       "2                  A person is outdoors, on a horse.              1  "
      ]
     },
     "execution_count": 340,
     "metadata": {},
     "output_type": "execute_result"
    }
   ],
   "source": [
    "# encode the labels\n",
    "\n",
    "from sklearn import preprocessing\n",
    "\n",
    "labels_list = list(train_data[\"gold_label\"].value_counts().index)\n",
    "le = preprocessing.LabelEncoder()\n",
    "le.fit(labels_list)\n",
    "\n",
    "train_data[\"encoded_label\"] = le.transform(train_data[\"gold_label\"])\n",
    "dev_data[\"encoded_label\"] = le.transform(dev_data[\"gold_label\"])\n",
    "test_data[\"encoded_label\"] = le.transform(test_data[\"gold_label\"])\n",
    "\n",
    "train_data_encoded = train_data.drop([\"gold_label\"], axis=1)\n",
    "dev_data_encoded = dev_data.drop([\"gold_label\"], axis=1)\n",
    "test_data_encoded = test_data.drop([\"gold_label\"], axis=1)\n",
    "\n",
    "train_data_encoded.head(3)"
   ]
  },
  {
   "cell_type": "code",
   "execution_count": 341,
   "metadata": {},
   "outputs": [],
   "source": [
    "def clean_data(row):\n",
    "    output = row.lower()\n",
    "    output = output.replace(\".\", \"\")\n",
    "    output = output.replace(\"!\", \"\")\n",
    "    output = output.replace(\"?\", \"\")\n",
    "    output = output.replace(\",\", \"\")\n",
    "    return output\n",
    "\n",
    "train_data_encoded[\"sentence1\"] = train_data_encoded[\"sentence1\"].apply(clean_data)\n",
    "dev_data_encoded[\"sentence1\"] = dev_data_encoded[\"sentence1\"].apply(clean_data)\n",
    "test_data_encoded[\"sentence1\"] = test_data_encoded[\"sentence1\"].apply(clean_data)\n",
    "\n",
    "train_data_encoded[\"sentence2\"] = train_data_encoded[\"sentence2\"].apply(clean_data)\n",
    "dev_data_encoded[\"sentence2\"] = dev_data_encoded[\"sentence2\"].apply(clean_data)\n",
    "test_data_encoded[\"sentence2\"] = test_data_encoded[\"sentence2\"].apply(clean_data)\n",
    "\n"
   ]
  },
  {
   "cell_type": "code",
   "execution_count": 342,
   "metadata": {},
   "outputs": [
    {
     "data": {
      "text/html": [
       "<div>\n",
       "<style scoped>\n",
       "    .dataframe tbody tr th:only-of-type {\n",
       "        vertical-align: middle;\n",
       "    }\n",
       "\n",
       "    .dataframe tbody tr th {\n",
       "        vertical-align: top;\n",
       "    }\n",
       "\n",
       "    .dataframe thead th {\n",
       "        text-align: right;\n",
       "    }\n",
       "</style>\n",
       "<table border=\"1\" class=\"dataframe\">\n",
       "  <thead>\n",
       "    <tr style=\"text-align: right;\">\n",
       "      <th></th>\n",
       "      <th>sentence1</th>\n",
       "      <th>sentence2</th>\n",
       "      <th>encoded_label</th>\n",
       "    </tr>\n",
       "  </thead>\n",
       "  <tbody>\n",
       "    <tr>\n",
       "      <th>0</th>\n",
       "      <td>a person on a horse jumps over a broken down a...</td>\n",
       "      <td>a person is training his horse for a competition</td>\n",
       "      <td>2</td>\n",
       "    </tr>\n",
       "    <tr>\n",
       "      <th>1</th>\n",
       "      <td>a person on a horse jumps over a broken down a...</td>\n",
       "      <td>a person is at a diner ordering an omelette</td>\n",
       "      <td>0</td>\n",
       "    </tr>\n",
       "  </tbody>\n",
       "</table>\n",
       "</div>"
      ],
      "text/plain": [
       "                                           sentence1  \\\n",
       "0  a person on a horse jumps over a broken down a...   \n",
       "1  a person on a horse jumps over a broken down a...   \n",
       "\n",
       "                                          sentence2  encoded_label  \n",
       "0  a person is training his horse for a competition              2  \n",
       "1       a person is at a diner ordering an omelette              0  "
      ]
     },
     "execution_count": 342,
     "metadata": {},
     "output_type": "execute_result"
    }
   ],
   "source": [
    "train_data_encoded.head(2)"
   ]
  },
  {
   "cell_type": "code",
   "execution_count": 343,
   "metadata": {},
   "outputs": [],
   "source": [
    "# to build vocab words\n",
    "df_final[\"sentence1\"] = df_final[\"sentence1\"].apply(clean_data)\n",
    "df_final[\"sentence2\"] = df_final[\"sentence2\"].apply(clean_data)"
   ]
  },
  {
   "cell_type": "code",
   "execution_count": 344,
   "metadata": {},
   "outputs": [
    {
     "data": {
      "text/html": [
       "<div>\n",
       "<style scoped>\n",
       "    .dataframe tbody tr th:only-of-type {\n",
       "        vertical-align: middle;\n",
       "    }\n",
       "\n",
       "    .dataframe tbody tr th {\n",
       "        vertical-align: top;\n",
       "    }\n",
       "\n",
       "    .dataframe thead th {\n",
       "        text-align: right;\n",
       "    }\n",
       "</style>\n",
       "<table border=\"1\" class=\"dataframe\">\n",
       "  <thead>\n",
       "    <tr style=\"text-align: right;\">\n",
       "      <th></th>\n",
       "      <th>gold_label</th>\n",
       "      <th>sentence1</th>\n",
       "      <th>sentence2</th>\n",
       "      <th>sentence1 length</th>\n",
       "      <th>sentence2 length</th>\n",
       "    </tr>\n",
       "  </thead>\n",
       "  <tbody>\n",
       "    <tr>\n",
       "      <th>0</th>\n",
       "      <td>neutral</td>\n",
       "      <td>a person on a horse jumps over a broken down a...</td>\n",
       "      <td>a person is training his horse for a competition</td>\n",
       "      <td>11</td>\n",
       "      <td>9</td>\n",
       "    </tr>\n",
       "    <tr>\n",
       "      <th>1</th>\n",
       "      <td>contradiction</td>\n",
       "      <td>a person on a horse jumps over a broken down a...</td>\n",
       "      <td>a person is at a diner ordering an omelette</td>\n",
       "      <td>11</td>\n",
       "      <td>9</td>\n",
       "    </tr>\n",
       "  </tbody>\n",
       "</table>\n",
       "</div>"
      ],
      "text/plain": [
       "      gold_label                                          sentence1  \\\n",
       "0        neutral  a person on a horse jumps over a broken down a...   \n",
       "1  contradiction  a person on a horse jumps over a broken down a...   \n",
       "\n",
       "                                          sentence2  sentence1 length  \\\n",
       "0  a person is training his horse for a competition                11   \n",
       "1       a person is at a diner ordering an omelette                11   \n",
       "\n",
       "   sentence2 length  \n",
       "0                 9  \n",
       "1                 9  "
      ]
     },
     "execution_count": 344,
     "metadata": {},
     "output_type": "execute_result"
    }
   ],
   "source": [
    "df_final.head(2)"
   ]
  },
  {
   "cell_type": "markdown",
   "metadata": {},
   "source": [
    "### Baseline Models"
   ]
  },
  {
   "cell_type": "markdown",
   "metadata": {},
   "source": [
    "#### Randomized Selection"
   ]
  },
  {
   "cell_type": "code",
   "execution_count": 345,
   "metadata": {},
   "outputs": [
    {
     "name": "stdout",
     "output_type": "stream",
     "text": [
      "0.3350542594575497\n",
      "0.33509449298922983\n"
     ]
    }
   ],
   "source": [
    "df_dev = pd.read_csv('snli/snli_1.0_dev.txt', delimiter = \"\\t\")\n",
    "df_dev = df_dev[[\"gold_label\", \"sentence1\", \"sentence2\"]]\n",
    "df_dev = df_dev[df_dev[\"gold_label\"] != \"-\"]\n",
    "df_dev = df_dev.dropna()\n",
    "gold_labels = list(df_dev[\"gold_label\"])\n",
    "\n",
    "possible_labels = ['neutral', 'entailment', 'contradiction']\n",
    "random_pred = np.random.choice(possible_labels, len(df_dev))\n",
    "\n",
    "print(f1_score(gold_labels, random_pred, average='macro'))\n",
    "print(accuracy_score(gold_labels, random_pred))"
   ]
  },
  {
   "cell_type": "markdown",
   "metadata": {},
   "source": [
    "#### Hypothesis-Only Baseline Model"
   ]
  },
  {
   "cell_type": "code",
   "execution_count": 351,
   "metadata": {},
   "outputs": [],
   "source": [
    "from sklearn.linear_model import LogisticRegression\n",
    "from sklearn.feature_extraction.text import TfidfVectorizer\n",
    "from sklearn import svm\n",
    "from sklearn import preprocessing\n",
    "from sklearn.pipeline import make_pipeline\n",
    "\n",
    "df_training = pd.read_csv('snli/snli_1.0_train.txt', delimiter = \"\\t\")\n",
    "df_training = df_training[[\"gold_label\", \"sentence1\", \"sentence2\"]]\n",
    "df_training = df_training[df_training[\"gold_label\"] != \"-\"]\n",
    "df_training = df_training.dropna()\n",
    "\n",
    "# reduce the training size\n",
    "training_data_length = 45948\n",
    "df_training = df_training.iloc[:training_data_length]\n",
    "\n",
    "hypothesis_training = df_training[\"sentence2\"]\n",
    "training_labels = df_training[\"gold_label\"]\n",
    "\n",
    "df_dev = pd.read_csv('snli/snli_1.0_dev.txt', delimiter = \"\\t\")\n",
    "df_dev = df_dev[[\"gold_label\", \"sentence1\", \"sentence2\"]]\n",
    "df_dev = df_dev[df_dev[\"gold_label\"] != \"-\"]\n",
    "df_dev = df_dev.dropna()\n",
    "hypothesis_dev = df_dev[\"sentence2\"]\n",
    "dev_labels = df_dev[\"gold_label\"]\n",
    "\n",
    "df_test = pd.read_csv('snli/snli_1.0_test.txt', delimiter = \"\\t\")\n",
    "df_test = df_test[[\"gold_label\", \"sentence1\", \"sentence2\"]]\n",
    "df_test = df_test[df_test[\"gold_label\"] != \"-\"]\n",
    "df_test = df_test.dropna()\n",
    "hypothesis_test = df_test[\"sentence2\"]\n",
    "\n",
    "hypothesis_training = hypothesis_training.apply(clean_data)\n",
    "hypothesis_dev = hypothesis_dev.apply(clean_data)\n",
    "hypothesis_test = hypothesis_test.apply(clean_data)"
   ]
  },
  {
   "cell_type": "code",
   "execution_count": 352,
   "metadata": {},
   "outputs": [],
   "source": [
    "from sklearn.pipeline import make_pipeline\n",
    "from sklearn.preprocessing import StandardScaler"
   ]
  },
  {
   "cell_type": "code",
   "execution_count": 353,
   "metadata": {},
   "outputs": [],
   "source": [
    "tfidf_vec = TfidfVectorizer(stop_words=\"english\", max_features=1000)\n",
    "X_train = tfidf_vec.fit_transform(hypothesis_training)\n",
    "X_test = tfidf_vec.transform(hypothesis_dev)"
   ]
  },
  {
   "cell_type": "code",
   "execution_count": 354,
   "metadata": {},
   "outputs": [],
   "source": [
    "le = preprocessing.LabelEncoder()\n",
    "le.fit([\"neutral\", \"contradiction\", \"entailment\"])\n",
    "training_labels = le.transform(training_labels)\n",
    "dev_labels = le.transform(dev_labels)"
   ]
  },
  {
   "cell_type": "code",
   "execution_count": 355,
   "metadata": {},
   "outputs": [
    {
     "name": "stdout",
     "output_type": "stream",
     "text": [
      "creating the model\n",
      "fitting the model\n",
      "making predictions\n"
     ]
    },
    {
     "name": "stderr",
     "output_type": "stream",
     "text": [
      "/Users/jessjkim/miniconda3/envs/myenv/lib/python3.8/site-packages/sklearn/linear_model/_logistic.py:763: ConvergenceWarning: lbfgs failed to converge (status=1):\n",
      "STOP: TOTAL NO. of ITERATIONS REACHED LIMIT.\n",
      "\n",
      "Increase the number of iterations (max_iter) or scale the data as shown in:\n",
      "    https://scikit-learn.org/stable/modules/preprocessing.html\n",
      "Please also refer to the documentation for alternative solver options:\n",
      "    https://scikit-learn.org/stable/modules/linear_model.html#logistic-regression\n",
      "  n_iter_i = _check_optimize_result(\n"
     ]
    }
   ],
   "source": [
    "print(\"creating the model\")\n",
    "model_logisticr = LogisticRegression()\n",
    "print(\"fitting the model\")\n",
    "model_logisticr.fit(X_train, training_labels)\n",
    "print(\"making predictions\")\n",
    "final_pred = model_logisticr.predict(X_test)"
   ]
  },
  {
   "cell_type": "code",
   "execution_count": 11,
   "metadata": {},
   "outputs": [
    {
     "name": "stdout",
     "output_type": "stream",
     "text": [
      "creating the model\n",
      "fitting the model\n"
     ]
    },
    {
     "name": "stderr",
     "output_type": "stream",
     "text": [
      "/Users/jessjkim/miniconda3/envs/myenv/lib/python3.8/site-packages/sklearn/svm/_base.py:255: ConvergenceWarning: Solver terminated early (max_iter=5000).  Consider pre-processing your data with StandardScaler or MinMaxScaler.\n",
      "  warnings.warn('Solver terminated early (max_iter=%i).'\n"
     ]
    },
    {
     "name": "stdout",
     "output_type": "stream",
     "text": [
      "making predictions\n"
     ]
    }
   ],
   "source": [
    "print(\"creating the model\")\n",
    "model_svm = svm.SVC(class_weight=\"balanced\", max_iter=5000)\n",
    "print(\"fitting the model\")\n",
    "model_svm.fit(X_train, training_labels)\n",
    "print(\"making predictions\")\n",
    "final_pred = model_svm.predict(X_test)"
   ]
  },
  {
   "cell_type": "code",
   "execution_count": 356,
   "metadata": {},
   "outputs": [
    {
     "name": "stdout",
     "output_type": "stream",
     "text": [
      "0.556109046935588\n",
      "0.555984555984556\n"
     ]
    }
   ],
   "source": [
    "print(f1_score(dev_labels, final_pred, average='macro'))\n",
    "print(accuracy_score(dev_labels, final_pred))"
   ]
  },
  {
   "cell_type": "code",
   "execution_count": null,
   "metadata": {},
   "outputs": [],
   "source": []
  }
 ],
 "metadata": {
  "kernelspec": {
   "display_name": "Python 3",
   "language": "python",
   "name": "python3"
  },
  "language_info": {
   "codemirror_mode": {
    "name": "ipython",
    "version": 3
   },
   "file_extension": ".py",
   "mimetype": "text/x-python",
   "name": "python",
   "nbconvert_exporter": "python",
   "pygments_lexer": "ipython3",
   "version": "3.8.8"
  }
 },
 "nbformat": 4,
 "nbformat_minor": 4
}
